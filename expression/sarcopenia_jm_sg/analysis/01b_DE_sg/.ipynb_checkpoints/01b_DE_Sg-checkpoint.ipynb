{
 "cells": [
  {
   "cell_type": "raw",
   "id": "359bda03",
   "metadata": {},
   "source": [
    "---\n",
    "title: \"Differential Expression\"\n",
    "output: gfm\n",
    "jupyter: R\n",
    "---"
   ]
  },
  {
   "cell_type": "markdown",
   "id": "5319e3c3",
   "metadata": {},
   "source": [
    "# 01b_DE_sg\n",
    "\n",
    "In this notebook, we continue with differential expression of sarcopenia vs normal tissue for the Singapore-only cohort. \n",
    "\n",
    "Some questions: \n",
    "- Do we see a separation of control vs sarcopenia in the PCA/hierarchical clustering? \n",
    "\n",
    "- Does the number of significantly changing genes change? \n",
    "\n",
    "- Is Deaf1 significantly differentially expressed? \n",
    "\n",
    "- check against nampt because this is the gene that is shown as differentially expressed in the paper"
   ]
  },
  {
   "cell_type": "markdown",
   "id": "13bff87e",
   "metadata": {},
   "source": [
    "# Setup"
   ]
  },
  {
   "cell_type": "code",
   "execution_count": 1,
   "id": "61123826",
   "metadata": {
    "ExecuteTime": {
     "end_time": "2023-01-13T05:54:40.282907Z",
     "start_time": "2023-01-13T05:54:32.471Z"
    }
   },
   "outputs": [],
   "source": [
    "suppressPackageStartupMessages({\n",
    "  library(DESeq2)\n",
    "    library(knitr)\n",
    "    library(GenomicFeatures)\n",
    "    library(RColorBrewer)\n",
    "    library(gplots)\n",
    "    library(biomaRt)\n",
    "    library(grid)\n",
    "    library(gridExtra)\n",
    "    library(ggplot2)\n",
    "    library(lattice)\n",
    "    library(reshape)\n",
    "    library(geneplotter)\n",
    "    library(limma)\n",
    "    library(tidyverse)  \n",
    "    \n",
    "})"
   ]
  },
  {
   "cell_type": "code",
   "execution_count": 2,
   "id": "06ea3dbf",
   "metadata": {
    "ExecuteTime": {
     "end_time": "2023-01-13T05:54:40.313579Z",
     "start_time": "2023-01-13T05:54:32.473Z"
    }
   },
   "outputs": [],
   "source": [
    "## This function is to write out the files of differentially expressed genes\n",
    "## It takes in a DESeqResults object, and two strings -- the numerator and denominator used in the analysis -- and writes out csv files\n",
    "\n",
    "write_files <- function(results, numerator, denominator){\n",
    "    # these are all the genes that are differentially expressed between the two conditions, not just the significant ones\n",
    "    write.csv(results, paste0(output_dir,numerator,\"_\",denominator,\"_all.csv\"), row.names = TRUE, col.names = TRUE)\n",
    "\n",
    "    # these are the genes that are significantly differentially expressed by FDR 10% and abs(log2fc) > log2(1.5)\n",
    "    sig_padj_genes <- results[!is.na(results$padj),]\n",
    "    sig_padj_genes <- sig_padj_genes[sig_padj_genes$padj < 0.1,]\n",
    "    sig_padj_fc_genes <- sig_padj_genes[abs(sig_padj_genes$log2FoldChange) > lfc.threshold,]\n",
    "    write.csv(sig_padj_fc_genes, paste0(output_dir,numerator,\"_\",denominator,\"_significant.csv\"), row.names = TRUE, col.names = TRUE)  \n",
    "}\n",
    "\n",
    "## This function plots the volcano plot\n",
    "## It takes in a data frame and two strings which are used for the title of the plot\n",
    "generate_volcano <- function(data_frame, numerator, denominator){\n",
    "lfc.threshold = log2(1.5)\n",
    "tmp = as.data.frame(data_frame)\n",
    "tmp$signif = ifelse(tmp$log2FoldChange > lfc.threshold & tmp$padj< 0.01, \"U1\", \n",
    "                                    ifelse(tmp$log2FoldChange > lfc.threshold & tmp$padj< 0.05, \"U2\",\n",
    "                                      ifelse(tmp$log2FoldChange > lfc.threshold & tmp$padj< 0.1, \"U3\",\n",
    "                                        ifelse(tmp$log2FoldChange < -1*lfc.threshold & tmp$padj< 0.01, \"D1\", \n",
    "                                         ifelse(tmp$log2FoldChange < -1*lfc.threshold & tmp$padj< 0.05, \"D2\",\n",
    "                                          ifelse(tmp$log2FoldChange < -1*lfc.threshold & tmp$padj< 0.1, \"D3\",                                                  \"N\"))))))\n",
    "tmp$signif = factor(tmp$signif, c(\"N\", \"U1\", \"U2\", \"U3\", \"D3\", \"D2\", \"D1\"))\n",
    "    \n",
    "x = ggplot(data=tmp, aes(x=log2FoldChange, y=-log10(padj), colour= signif)) + geom_point(alpha=1.0, size=2.00) +\n",
    "      ggtitle(paste(\"Volcano Plot:\", numerator, \"vs.\", denominator)) + \n",
    "      scale_x_continuous(\"log2(fold change)\", limits=c(-6, 6)) +    \n",
    "      scale_y_continuous(\"-log10(FDR)\") + \n",
    "      geom_vline(xintercept = lfc.threshold, linetype=\"dotdash\") +\n",
    "      geom_vline(xintercept = -1*(lfc.threshold), linetype=\"dotdash\") +\n",
    "      geom_hline(yintercept = -log10(0.1), colour=\"gray40\", linetype=\"dotdash\") +   \n",
    "      geom_hline(yintercept = -log10(0.05), colour=\"gray40\", linetype=\"dotdash\") + \n",
    "      geom_hline(yintercept = -log10(0.01), colour=\"gray40\", linetype=\"dotdash\") + \n",
    "      scale_colour_manual(\"\", values=c(\"#666666\", \"#d73027\", \"#f46d43\", \"#fdae61\", \"#abd9e9\", \"#74add1\", \"#4575b4\" ), labels = c(\"N\", \"U1\", \"U2\", \"U3\", \"D3\", \"D2\", \"D1\")) + theme_classic() + theme(legend.position = \"none\", plot.title = element_text(size = 20), axis.title=element_text(size=16,face=\"bold\"))\n",
    "print(x)\n",
    "}\n",
    "\n",
    "## This function generates the MA plots with significant changes above the threshold coloured in red and significant changes below the threshold coloured in blue\n",
    "## It takes in a DESeqResults object, uses the plotMA function from DESeq2 to obtain the necessary data frame to plot\n",
    "\n",
    "generate_ma <- function(results, numerator, denominator){\n",
    "  df <- DESeq2::plotMA(results, ylim = c(-10,10), colSig = \"red\", returnData = TRUE)\n",
    "  plot <- df %>%\n",
    "  mutate(signif = ifelse(lfc > lfc.threshold & isDE == TRUE, \"U\", \n",
    "                         ifelse(lfc < -lfc.threshold & isDE == TRUE, \"D\", \"N\"))) %>%\n",
    "  ggplot(aes(x=mean, y=lfc, colour = signif)) + \n",
    "  geom_point(size = 1.5, alpha = 0.8) + \n",
    "  theme_classic() + \n",
    "  geom_hline(yintercept=0, colour=\"grey40\", lwd = 1) + \n",
    "  #stat_smooth(se = FALSE, method = \"loess\", color = \"red3\") + \n",
    "  theme_classic() + \n",
    "  scale_colour_manual(values=c(\"#4575b4\",\"#a3a3a3\",\"#d73027\"), labels = c(\"D\", \"N\", \"U\")) +\n",
    "  ylim(c(-10,10)) +\n",
    "  theme(legend.position = \"none\") +\n",
    "  labs(title = paste(\"Volcano Plot:\", numerator, \"vs.\", denominator)) +\n",
    "  ylab(\"Log fold change\") +\n",
    "  xlab(\"Mean of normalized counts\") +\n",
    "  scale_x_log10()\n",
    "  return(plot)\n",
    "}\n",
    "\n"
   ]
  },
  {
   "cell_type": "markdown",
   "id": "e5c5a6b3",
   "metadata": {},
   "source": [
    "## Load data"
   ]
  },
  {
   "cell_type": "code",
   "execution_count": 4,
   "id": "89d6a9a1",
   "metadata": {
    "ExecuteTime": {
     "end_time": "2023-01-13T05:54:41.741957Z",
     "start_time": "2023-01-13T05:54:32.474Z"
    }
   },
   "outputs": [
    {
     "name": "stderr",
     "output_type": "stream",
     "text": [
      "Warning message in gzfile(file, \"rb\"):\n",
      "“cannot open compressed file '../data/ensembl.genes.rds', probable reason 'No such file or directory'”\n"
     ]
    },
    {
     "ename": "ERROR",
     "evalue": "Error in gzfile(file, \"rb\"): cannot open the connection\n",
     "output_type": "error",
     "traceback": [
      "Error in gzfile(file, \"rb\"): cannot open the connection\nTraceback:\n",
      "1. readRDS(\"../data/ensembl.genes.rds\")",
      "2. gzfile(file, \"rb\")"
     ]
    }
   ],
   "source": [
    "dds = readRDS(\"../output/01a_QC_sg/dds_quality_control.RDS\")\n",
    "dds_corrected = readRDS(\"../output/01a_QC_sg/dds_corrected.RDS\")\n",
    "ensembl.genes= readRDS(\"../data/ensembl.genes.RDS\")\n",
    "lfc.threshold = log2(1.5)\n",
    "\n",
    "## Creating the output dir\n",
    "if(!dir.exists(\"../output/01b_DE_sg\")){\n",
    "  dir.create(\"../output/01b_DE_sg\")\n",
    "}\n",
    "\n",
    "output_dir <- \"../output/01b_DE_sg/\""
   ]
  },
  {
   "cell_type": "code",
   "execution_count": null,
   "id": "69f78b09",
   "metadata": {
    "ExecuteTime": {
     "end_time": "2023-01-13T05:54:42.753493Z",
     "start_time": "2023-01-13T05:54:32.474Z"
    }
   },
   "outputs": [],
   "source": [
    "filter = apply(counts(dds, normalized=TRUE), 1, function(x){ mean(x) >= 10 })\n",
    "dds = dds[filter, ]"
   ]
  },
  {
   "cell_type": "code",
   "execution_count": null,
   "id": "cc26dac1",
   "metadata": {
    "ExecuteTime": {
     "end_time": "2023-01-13T05:54:43.743598Z",
     "start_time": "2023-01-13T05:54:32.475Z"
    }
   },
   "outputs": [],
   "source": [
    "filter_2 = apply(counts(dds_corrected, normalized=TRUE), 1, function(x){ mean(x) >= 10 })\n",
    "dds_corrected = dds_corrected[filter_2, ]"
   ]
  },
  {
   "cell_type": "markdown",
   "id": "c3623813",
   "metadata": {},
   "source": [
    "# Non-corrected"
   ]
  },
  {
   "cell_type": "markdown",
   "id": "3c48f8d7",
   "metadata": {},
   "source": [
    "## RLD plot"
   ]
  },
  {
   "cell_type": "code",
   "execution_count": null,
   "id": "600c22f8",
   "metadata": {
    "ExecuteTime": {
     "end_time": "2023-01-13T05:54:46.449143Z",
     "start_time": "2023-01-13T05:54:32.476Z"
    }
   },
   "outputs": [],
   "source": [
    "rld <- vst(dds)\n",
    "\n",
    "options(repr.plot.height = 10, repr.plot.width = 20)\n",
    "assay(rld) %>%\n",
    "  as.data.frame() %>%\n",
    "  gather() %>%\n",
    "  ggplot(aes(x=key, y=value)) + \n",
    "  geom_boxplot() + ylab(\"Log Expression \") + xlab(\"Sample\")"
   ]
  },
  {
   "cell_type": "markdown",
   "id": "7d225934",
   "metadata": {},
   "source": [
    "## Wald test"
   ]
  },
  {
   "cell_type": "code",
   "execution_count": null,
   "id": "124791b4",
   "metadata": {
    "ExecuteTime": {
     "end_time": "2023-01-13T05:54:49.350308Z",
     "start_time": "2023-01-13T05:54:32.477Z"
    }
   },
   "outputs": [],
   "source": [
    "dds = nbinomWaldTest(dds)"
   ]
  },
  {
   "cell_type": "code",
   "execution_count": null,
   "id": "e547ff47",
   "metadata": {
    "ExecuteTime": {
     "end_time": "2023-01-13T05:54:50.958811Z",
     "start_time": "2023-01-13T05:54:32.478Z"
    }
   },
   "outputs": [],
   "source": [
    "results = results(dds, \n",
    "                  contrast = c(\"condition\", \"sarco\", \"ctrl\"),  \n",
    "                  filter=rowMeans(counts(dds, normalized=TRUE)), \n",
    "                  test=\"Wald\", alpha=0.1, independentFiltering=TRUE)"
   ]
  },
  {
   "cell_type": "code",
   "execution_count": null,
   "id": "ff506739",
   "metadata": {
    "ExecuteTime": {
     "end_time": "2023-01-13T05:54:51.023031Z",
     "start_time": "2023-01-13T05:54:32.478Z"
    }
   },
   "outputs": [],
   "source": [
    "options(repr.plot.height = 4, repr.plot.width = 6)\n",
    "results$gene_biotype= ensembl.genes$gene_biotype[match(row.names(results), ensembl.genes$gene_id)]\n",
    "results$external_gene_name= ensembl.genes$external_gene_name[match(row.names(results), ensembl.genes$gene_id)]\n",
    "\n",
    "hist(results$pvalue, xlab = \"p-value\", ylab = \"Frequency\")"
   ]
  },
  {
   "cell_type": "markdown",
   "id": "6a4eb4b4",
   "metadata": {},
   "source": [
    "## Number of significant genes"
   ]
  },
  {
   "cell_type": "code",
   "execution_count": null,
   "id": "95d47312",
   "metadata": {
    "ExecuteTime": {
     "end_time": "2023-01-13T05:54:51.034641Z",
     "start_time": "2023-01-13T05:54:32.479Z"
    }
   },
   "outputs": [],
   "source": [
    "sum(results$padj < 0.1 & abs(results$log2FoldChange) > lfc.threshold, na.rm = T)"
   ]
  },
  {
   "cell_type": "code",
   "execution_count": null,
   "id": "1903a367",
   "metadata": {
    "ExecuteTime": {
     "end_time": "2023-01-13T05:54:51.256572Z",
     "start_time": "2023-01-13T05:54:32.480Z"
    }
   },
   "outputs": [],
   "source": [
    "write_files(results, \"sarco\", \"ctrl\")"
   ]
  },
  {
   "cell_type": "code",
   "execution_count": null,
   "id": "9f43e0d1",
   "metadata": {
    "ExecuteTime": {
     "end_time": "2023-01-13T05:54:51.703207Z",
     "start_time": "2023-01-13T05:54:32.481Z"
    }
   },
   "outputs": [],
   "source": [
    "options(repr.plot.height = 4, repr.plot.width = 6)\n",
    "\n",
    "generate_volcano(results,\"sarco\",\"ctrl\")"
   ]
  },
  {
   "cell_type": "code",
   "execution_count": null,
   "id": "6be8c056",
   "metadata": {
    "ExecuteTime": {
     "end_time": "2023-01-13T05:54:51.717771Z",
     "start_time": "2023-01-13T05:54:32.482Z"
    }
   },
   "outputs": [],
   "source": [
    "summary(results$log2FoldChange)"
   ]
  },
  {
   "cell_type": "markdown",
   "id": "6b08645c",
   "metadata": {},
   "source": [
    "## Replicating the pvalue plot in the figure\n",
    "\n",
    "I strongly suspect that the pvalue plot in Supplementary Figure 1 has not been corrected for multiple testing. Let's confirm our suspicions: "
   ]
  },
  {
   "cell_type": "code",
   "execution_count": null,
   "id": "22a1518a",
   "metadata": {
    "ExecuteTime": {
     "end_time": "2023-01-13T05:54:51.733778Z",
     "start_time": "2023-01-13T05:54:32.483Z"
    }
   },
   "outputs": [],
   "source": [
    "res_plot <- as.data.frame(results)"
   ]
  },
  {
   "cell_type": "code",
   "execution_count": null,
   "id": "09559dec",
   "metadata": {
    "ExecuteTime": {
     "end_time": "2023-01-13T05:54:52.125524Z",
     "start_time": "2023-01-13T05:54:32.483Z"
    }
   },
   "outputs": [],
   "source": [
    "ggplot(na.omit(res_plot), \n",
    "      aes(x = log2FoldChange, y = -log10(pvalue), \n",
    "          color = padj < 0.1\n",
    "      )\n",
    "       )+\n",
    "    scale_y_continuous(limits = c(0, 5)) +\n",
    "    geom_point() +\n",
    "    labs(title = \"Colored by padj\") +\n",
    "    scale_color_manual(values = c(\"grey\", \"aquamarine3\")) +\n",
    "    theme_light()"
   ]
  },
  {
   "cell_type": "markdown",
   "id": "7de5097d",
   "metadata": {},
   "source": [
    "Nope, that's not it. "
   ]
  },
  {
   "cell_type": "code",
   "execution_count": null,
   "id": "a934fc40",
   "metadata": {
    "ExecuteTime": {
     "end_time": "2023-01-13T05:54:52.499104Z",
     "start_time": "2023-01-13T05:54:32.484Z"
    }
   },
   "outputs": [],
   "source": [
    "ggplot(na.omit(res_plot), \n",
    "      aes(x = log2FoldChange, y = -log10(pvalue), \n",
    "          color = pvalue < 0.001\n",
    "      )\n",
    "       )+\n",
    "    scale_y_continuous(limits = c(0, 5)) +\n",
    "    geom_point() +\n",
    "    labs(title = \"Colored by pvalue\") +\n",
    "    scale_color_manual(values = c(\"grey\", \"aquamarine3\")) +\n",
    "    theme_light()"
   ]
  },
  {
   "cell_type": "markdown",
   "id": "9b15a016",
   "metadata": {},
   "source": [
    "Yup, that's it. "
   ]
  },
  {
   "cell_type": "markdown",
   "id": "4415ce1d",
   "metadata": {},
   "source": [
    "## Deaf1"
   ]
  },
  {
   "cell_type": "code",
   "execution_count": null,
   "id": "0712ea28",
   "metadata": {
    "ExecuteTime": {
     "end_time": "2023-01-13T05:54:52.518944Z",
     "start_time": "2023-01-13T05:54:32.485Z"
    }
   },
   "outputs": [],
   "source": [
    "deaf1 <- \"ENSG00000177030\"\n",
    "\n",
    "results[rownames(results) == deaf1, ]"
   ]
  },
  {
   "cell_type": "code",
   "execution_count": null,
   "id": "971670f4",
   "metadata": {
    "ExecuteTime": {
     "end_time": "2023-01-13T05:54:52.535959Z",
     "start_time": "2023-01-13T05:54:32.485Z"
    }
   },
   "outputs": [],
   "source": [
    "nampt <- \"ENSG00000105835\"\n",
    "\n",
    "results[rownames(results) == nampt, ]"
   ]
  },
  {
   "cell_type": "markdown",
   "id": "af4282a9",
   "metadata": {},
   "source": [
    "# Batch-corrected"
   ]
  },
  {
   "cell_type": "markdown",
   "id": "1b691864",
   "metadata": {},
   "source": [
    "## Rld plot"
   ]
  },
  {
   "cell_type": "code",
   "execution_count": null,
   "id": "74f314b7",
   "metadata": {
    "ExecuteTime": {
     "end_time": "2023-01-13T05:54:54.904941Z",
     "start_time": "2023-01-13T05:54:32.486Z"
    }
   },
   "outputs": [],
   "source": [
    "rld_corrected <- vst(dds_corrected)\n",
    "\n",
    "options(repr.plot.height = 10, repr.plot.width = 20)\n",
    "assay(rld_corrected) %>%\n",
    "  as.data.frame() %>%\n",
    "  gather() %>%\n",
    "  ggplot(aes(x=key, y=value)) + \n",
    "  geom_boxplot() + ylab(\"Log Expression \") + xlab(\"Sample\")"
   ]
  },
  {
   "cell_type": "markdown",
   "id": "268800a6",
   "metadata": {},
   "source": [
    "## Wald test"
   ]
  },
  {
   "cell_type": "code",
   "execution_count": null,
   "id": "927bbad5",
   "metadata": {
    "ExecuteTime": {
     "end_time": "2023-01-13T05:55:00.570739Z",
     "start_time": "2023-01-13T05:54:32.487Z"
    }
   },
   "outputs": [],
   "source": [
    "dds_corrected = nbinomWaldTest(dds_corrected)\n",
    "\n",
    "results_corrected = results(dds_corrected, \n",
    "                  contrast = c(\"condition\", \"sarco\", \"ctrl\"),  \n",
    "                  filter=rowMeans(counts(dds, normalized=TRUE)), \n",
    "                  test=\"Wald\", alpha=0.1, independentFiltering=TRUE)"
   ]
  },
  {
   "cell_type": "code",
   "execution_count": null,
   "id": "c346c090",
   "metadata": {
    "ExecuteTime": {
     "end_time": "2023-01-13T05:55:00.622544Z",
     "start_time": "2023-01-13T05:54:32.487Z"
    }
   },
   "outputs": [],
   "source": [
    "options(repr.plot.height = 4, repr.plot.width = 6)\n",
    "results_corrected$gene_biotype= ensembl.genes$gene_biotype[match(row.names(results_corrected), ensembl.genes$gene_id)]\n",
    "results_corrected$external_gene_name= ensembl.genes$external_gene_name[match(row.names(results_corrected), ensembl.genes$gene_id)]\n",
    "\n",
    "hist(results_corrected$pvalue, xlab = \"p-value\", ylab = \"Frequency\")"
   ]
  },
  {
   "cell_type": "markdown",
   "id": "07551b8d",
   "metadata": {},
   "source": [
    "## Number of significant genes"
   ]
  },
  {
   "cell_type": "code",
   "execution_count": null,
   "id": "25792de0",
   "metadata": {
    "ExecuteTime": {
     "end_time": "2023-01-13T05:55:00.633436Z",
     "start_time": "2023-01-13T05:54:32.488Z"
    }
   },
   "outputs": [],
   "source": [
    "sum(results_corrected$padj < 0.1 & abs(results_corrected$log2FoldChange) > lfc.threshold, na.rm = T)"
   ]
  },
  {
   "cell_type": "code",
   "execution_count": null,
   "id": "9aecdadc",
   "metadata": {
    "ExecuteTime": {
     "end_time": "2023-01-13T05:55:00.852916Z",
     "start_time": "2023-01-13T05:54:32.488Z"
    }
   },
   "outputs": [],
   "source": [
    "write_files(results_corrected, \"sarco_corrected\", \"ctrl_corrected\")"
   ]
  },
  {
   "cell_type": "code",
   "execution_count": null,
   "id": "9a228be8",
   "metadata": {
    "ExecuteTime": {
     "end_time": "2023-01-13T05:55:01.407260Z",
     "start_time": "2023-01-13T05:54:32.489Z"
    }
   },
   "outputs": [],
   "source": [
    "options(repr.plot.height = 4, repr.plot.width = 6)\n",
    "\n",
    "generate_volcano(results_corrected,\"sarco_corrected\",\"ctrl_corrected\")"
   ]
  },
  {
   "cell_type": "code",
   "execution_count": null,
   "id": "49fc4f75",
   "metadata": {
    "ExecuteTime": {
     "end_time": "2023-01-13T05:55:01.951040Z",
     "start_time": "2023-01-13T05:54:32.489Z"
    }
   },
   "outputs": [],
   "source": [
    "ggplot(na.omit(as.data.frame(results_corrected)), \n",
    "      aes(x = log2FoldChange, y = -log10(pvalue), \n",
    "          color = pvalue < 0.001\n",
    "      )\n",
    "       )+\n",
    "    scale_y_continuous(limits = c(0, 5)) +\n",
    "    geom_point() +\n",
    "    labs(title = \"Colored by pvalue\") +\n",
    "    scale_color_manual(values = c(\"grey\", \"aquamarine3\")) +\n",
    "    theme_light()"
   ]
  },
  {
   "cell_type": "code",
   "execution_count": null,
   "id": "540f8cbe",
   "metadata": {
    "ExecuteTime": {
     "end_time": "2023-01-13T05:55:02.473125Z",
     "start_time": "2023-01-13T05:54:32.490Z"
    }
   },
   "outputs": [],
   "source": [
    "ggplot(na.omit(as.data.frame(results_corrected)), \n",
    "      aes(x = log2FoldChange, y = -log10(pvalue), \n",
    "          color = padj < 0.1\n",
    "      )\n",
    "       )+\n",
    "    scale_y_continuous(limits = c(0, 5)) +\n",
    "    geom_point() +\n",
    "    labs(title = \"Colored by pvalue\") +\n",
    "    scale_color_manual(values = c(\"grey\", \"aquamarine3\")) +\n",
    "    theme_light()"
   ]
  },
  {
   "cell_type": "code",
   "execution_count": null,
   "id": "652eeaa6",
   "metadata": {},
   "outputs": [],
   "source": []
  },
  {
   "cell_type": "code",
   "execution_count": null,
   "id": "aff9e877",
   "metadata": {},
   "outputs": [],
   "source": []
  },
  {
   "cell_type": "markdown",
   "id": "4bcc6993",
   "metadata": {},
   "source": [
    "## Deaf1"
   ]
  },
  {
   "cell_type": "code",
   "execution_count": null,
   "id": "27b4e1dd",
   "metadata": {
    "ExecuteTime": {
     "end_time": "2023-01-13T05:55:02.488450Z",
     "start_time": "2023-01-13T05:54:32.491Z"
    }
   },
   "outputs": [],
   "source": [
    "deaf1 <- \"ENSG00000177030\"\n",
    "\n",
    "results_corrected[rownames(results_corrected) == deaf1, ]"
   ]
  },
  {
   "cell_type": "markdown",
   "id": "0bfbcacf",
   "metadata": {},
   "source": [
    "## Nampt"
   ]
  },
  {
   "cell_type": "code",
   "execution_count": null,
   "id": "9fbdbc2d",
   "metadata": {
    "ExecuteTime": {
     "end_time": "2023-01-13T05:55:02.503904Z",
     "start_time": "2023-01-13T05:54:32.492Z"
    }
   },
   "outputs": [],
   "source": [
    "results_corrected[rownames(results_corrected) == nampt, ]"
   ]
  },
  {
   "cell_type": "markdown",
   "id": "6f161cab",
   "metadata": {},
   "source": [
    "# Session Info"
   ]
  },
  {
   "cell_type": "code",
   "execution_count": null,
   "id": "f17cd799",
   "metadata": {
    "ExecuteTime": {
     "end_time": "2023-01-13T05:55:02.590693Z",
     "start_time": "2023-01-13T05:54:32.492Z"
    }
   },
   "outputs": [],
   "source": [
    "sessionInfo()"
   ]
  },
  {
   "cell_type": "code",
   "execution_count": null,
   "id": "df173b79",
   "metadata": {},
   "outputs": [],
   "source": []
  }
 ],
 "metadata": {
  "kernelspec": {
   "display_name": "R",
   "language": "R",
   "name": "ir"
  },
  "language_info": {
   "codemirror_mode": "r",
   "file_extension": ".r",
   "mimetype": "text/x-r-source",
   "name": "R",
   "pygments_lexer": "r",
   "version": "4.2.2"
  },
  "toc": {
   "base_numbering": 1,
   "nav_menu": {},
   "number_sections": true,
   "sideBar": true,
   "skip_h1_title": false,
   "title_cell": "Table of Contents",
   "title_sidebar": "Contents",
   "toc_cell": false,
   "toc_position": {},
   "toc_section_display": true,
   "toc_window_display": true
  }
 },
 "nbformat": 4,
 "nbformat_minor": 5
}
