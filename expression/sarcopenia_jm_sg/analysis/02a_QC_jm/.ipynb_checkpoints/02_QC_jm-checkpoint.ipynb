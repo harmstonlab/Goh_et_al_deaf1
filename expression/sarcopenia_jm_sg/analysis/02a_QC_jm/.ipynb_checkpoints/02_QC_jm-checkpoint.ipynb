{
 "cells": [
  {
   "cell_type": "raw",
   "id": "e9cb4348",
   "metadata": {},
   "source": [
    "---\n",
    "title: \"Quality Control\"\n",
    "format: gfm\n",
    "jupyter: R\n",
    "---"
   ]
  },
  {
   "cell_type": "code",
   "execution_count": 1,
   "id": "cdc0b1b4",
   "metadata": {
    "ExecuteTime": {
     "end_time": "2023-01-13T05:12:43.402334Z",
     "start_time": "2023-01-13T05:12:43.340Z"
    },
    "name": "setup",
    "tags": [
     "remove_cell"
    ]
   },
   "outputs": [],
   "source": [
    "#knitr::opts_chunk$set(echo = TRUE)"
   ]
  },
  {
   "cell_type": "markdown",
   "id": "2be85afe",
   "metadata": {},
   "source": [
    "# QC_jm\n",
    "\n",
    "In this notebook, we perform QC for the Jamaican population only. Samples: sarcopenia vs healthy controls. "
   ]
  },
  {
   "cell_type": "code",
   "execution_count": 2,
   "id": "f975972c",
   "metadata": {
    "ExecuteTime": {
     "end_time": "2023-01-13T05:12:52.307631Z",
     "start_time": "2023-01-13T05:12:43.341Z"
    }
   },
   "outputs": [],
   "source": [
    "suppressPackageStartupMessages({\n",
    "    library(DESeq2)\n",
    "    library(ggrepel)\n",
    "    library(genefilter)\n",
    "    library(GenomicFeatures)\n",
    "    library(biomaRt)\n",
    "    library(reshape2)\n",
    "    library(scales)\n",
    "    library(Biostrings)\n",
    "    library(tidyverse)\n",
    "    library(janitor)\n",
    "    library(DT)\n",
    "    library(pheatmap)\n",
    "    library(clusterProfiler)\n",
    "    library(\"org.Hs.eg.db\")\n",
    "    library(GEOquery)\n",
    "    library(limma)\n",
    "    library(sva)\n",
    "})\n"
   ]
  },
  {
   "cell_type": "code",
   "execution_count": 3,
   "id": "c231f84d",
   "metadata": {
    "ExecuteTime": {
     "end_time": "2023-01-13T05:12:52.315495Z",
     "start_time": "2023-01-13T05:12:43.342Z"
    },
    "cache": true
   },
   "outputs": [],
   "source": [
    "### --- Get gene-level annotations (run once) --- ###\n",
    "\n",
    "#hs.gtf.db <- makeTxDbFromGFF(\"../../data/annotation/Homo_sapiens.GRCh38.94.chr.gtf\", \n",
    "#                             format=\"gtf\" )\n",
    "\n",
    "#ensembl.genes = genes(hs.gtf.db)\n",
    "#human = useEnsembl(biomart=\"ENSEMBL_MART_ENSEMBL\", \n",
    "#                      dataset=\"hsapiens_gene_ensembl\", mirror = \"useast\")\n",
    "#bm.annotations = getBM(attributes=c(\"ensembl_gene_id\", \"entrezgene_id\", \"gene_biotype\", \"external_gene_name\"), \n",
    "#                       mart=human, \n",
    "#                       filters=\"ensembl_gene_id\", \n",
    "#                       values=ensembl.genes$gene_id, uniqueRows=TRUE)\n",
    "#ensembl.genes$gene_biotype = bm.annotations$gene_biotype[match(ensembl.genes$gene_id, bm.annotations$ensembl_gene_id) ]\n",
    "#ensembl.genes$entrezgene_id = bm.annotations$entrezgene_id[match(ensembl.genes$gene_id, bm.annotations$ensembl_gene_id) ]\n",
    "#ensembl.genes$external_gene_name = bm.annotations$external_gene_name[match(ensembl.genes$gene_id, bm.annotations$ensembl_gene_id) ]\n",
    "\n",
    "# save this as RDS so we don't have to keep running it\n",
    "#saveRDS(bm.annotations, file = \"../../output/bm_annotations.RDS\")\n",
    "#saveRDS(ensembl.genes, file = \"../../output/ensembl.genes.RDS\")"
   ]
  },
  {
   "cell_type": "code",
   "execution_count": 4,
   "id": "1920e0b6",
   "metadata": {
    "ExecuteTime": {
     "end_time": "2023-01-13T05:12:52.322875Z",
     "start_time": "2023-01-13T05:12:43.343Z"
    }
   },
   "outputs": [],
   "source": [
    "### -- Get metadata (run once) --- ###  \n",
    "\n",
    "#Get series matrix files that contain the metadata\n",
    "#jm_geo <- GEOquery::getGEO(filename = \"../../data/metadata/GSE111016_series_matrix.txt\")\n",
    "#jm_geo <- GEOquery::getGEO(filename = \"../../data/metadata/GSE111010_series_matrix.txt\")\n",
    "\n",
    "# Extract the metadata\n",
    "#jm_geo_md <- pData(phenoData(jm_geo)) %>% clean_names()\n",
    "#jm_geo_md <- pData(phenoData(jm_geo)) %>% clean_names()\n",
    "\n",
    "#write_delim(jm_geo_md, file = \"../../data/metadata/jm_geo_md.txt\")\n",
    "#write_delim(jm_geo_md, file = \"../../data/metadata/jm_geo_md.txt\")"
   ]
  },
  {
   "cell_type": "markdown",
   "id": "29743d57",
   "metadata": {
    "ExecuteTime": {
     "end_time": "2023-01-12T03:51:04.464648Z",
     "start_time": "2023-01-12T03:51:02.007Z"
    }
   },
   "source": [
    "## Read in files"
   ]
  },
  {
   "cell_type": "code",
   "execution_count": 5,
   "id": "7343518b",
   "metadata": {
    "ExecuteTime": {
     "end_time": "2023-01-13T05:12:52.675209Z",
     "start_time": "2023-01-13T05:12:43.344Z"
    }
   },
   "outputs": [
    {
     "name": "stderr",
     "output_type": "stream",
     "text": [
      "\u001b[1mRows: \u001b[22m\u001b[34m39\u001b[39m \u001b[1mColumns: \u001b[22m\u001b[34m52\u001b[39m\n",
      "\u001b[36m──\u001b[39m \u001b[1mColumn specification\u001b[22m \u001b[36m────────────────────────────────────────────────────────────────────────────────────────────────────────────────────────────────────────────────────────────────────────────\u001b[39m\n",
      "\u001b[1mDelimiter:\u001b[22m \" \"\n",
      "\u001b[31mchr\u001b[39m (47): title, geo_accession, status, submission_date, last_update_date, t...\n",
      "\u001b[32mdbl\u001b[39m  (5): channel_count, taxid_ch1, contact_zip_postal_code, data_row_count,...\n",
      "\n",
      "\u001b[36mℹ\u001b[39m Use `spec()` to retrieve the full column specification for this data.\n",
      "\u001b[36mℹ\u001b[39m Specify the column types or set `show_col_types = FALSE` to quiet this message.\n"
     ]
    }
   ],
   "source": [
    "bm.annotations <- readRDS(\"../../data/bm_annotations.RDS\")\n",
    "ensembl.genes <- readRDS(\"../../data/ensembl.genes.RDS\")\n",
    "\n",
    "jm_geo_md <- read_delim(file = \"../../data/metadata/jm_geo_md.txt\")"
   ]
  },
  {
   "cell_type": "code",
   "execution_count": 6,
   "id": "bc2daa07",
   "metadata": {
    "ExecuteTime": {
     "end_time": "2023-01-13T05:12:52.758728Z",
     "start_time": "2023-01-13T05:12:43.345Z"
    }
   },
   "outputs": [
    {
     "data": {
      "text/html": [
       "<style>\n",
       ".list-inline {list-style: none; margin:0; padding: 0}\n",
       ".list-inline>li {display: inline-block}\n",
       ".list-inline>li:not(:last-child)::after {content: \"\\00b7\"; padding: 0 .5ex}\n",
       "</style>\n",
       "<ol class=list-inline><li>39</li><li>12</li></ol>\n"
      ],
      "text/latex": [
       "\\begin{enumerate*}\n",
       "\\item 39\n",
       "\\item 12\n",
       "\\end{enumerate*}\n"
      ],
      "text/markdown": [
       "1. 39\n",
       "2. 12\n",
       "\n",
       "\n"
      ],
      "text/plain": [
       "[1] 39 12"
      ]
     },
     "metadata": {},
     "output_type": "display_data"
    },
    {
     "data": {
      "text/html": [
       "<table class=\"dataframe\">\n",
       "<caption>A grouped_df: 6 × 12</caption>\n",
       "<thead>\n",
       "\t<tr><th scope=col>sample_id</th><th scope=col>sex</th><th scope=col>age_yr</th><th scope=col>low_muscle_mass</th><th scope=col>low_strength_performance</th><th scope=col>population</th><th scope=col>sarcopenia_status</th><th scope=col>tissue</th><th scope=col>sample_id_new</th><th scope=col>country</th><th scope=col>condition</th><th scope=col>sample_no</th></tr>\n",
       "\t<tr><th scope=col>&lt;chr&gt;</th><th scope=col>&lt;chr&gt;</th><th scope=col>&lt;dbl&gt;</th><th scope=col>&lt;chr&gt;</th><th scope=col>&lt;chr&gt;</th><th scope=col>&lt;chr&gt;</th><th scope=col>&lt;chr&gt;</th><th scope=col>&lt;chr&gt;</th><th scope=col>&lt;chr&gt;</th><th scope=col>&lt;fct&gt;</th><th scope=col>&lt;fct&gt;</th><th scope=col>&lt;int&gt;</th></tr>\n",
       "</thead>\n",
       "<tbody>\n",
       "\t<tr><td>jm_sample_1</td><td>male</td><td>86</td><td>no </td><td>no</td><td>Afro-Caribbean descent</td><td>no</td><td>vastus lateralis muscle</td><td>jm_ctrl_1</td><td>jm</td><td>ctrl</td><td>1</td></tr>\n",
       "\t<tr><td>jm_sample_2</td><td>male</td><td>80</td><td>no </td><td>no</td><td>Afro-Caribbean descent</td><td>no</td><td>vastus lateralis muscle</td><td>jm_ctrl_2</td><td>jm</td><td>ctrl</td><td>2</td></tr>\n",
       "\t<tr><td>jm_sample_3</td><td>male</td><td>65</td><td>no </td><td>no</td><td>Afro-Caribbean descent</td><td>no</td><td>vastus lateralis muscle</td><td>jm_ctrl_3</td><td>jm</td><td>ctrl</td><td>3</td></tr>\n",
       "\t<tr><td>jm_sample_4</td><td>male</td><td>64</td><td>no </td><td>no</td><td>Afro-Caribbean descent</td><td>no</td><td>vastus lateralis muscle</td><td>jm_ctrl_4</td><td>jm</td><td>ctrl</td><td>4</td></tr>\n",
       "\t<tr><td>jm_sample_5</td><td>male</td><td>74</td><td>yes</td><td>no</td><td>Afro-Caribbean descent</td><td>no</td><td>vastus lateralis muscle</td><td>jm_ctrl_5</td><td>jm</td><td>ctrl</td><td>5</td></tr>\n",
       "\t<tr><td>jm_sample_6</td><td>male</td><td>89</td><td>no </td><td>no</td><td>Afro-Caribbean descent</td><td>no</td><td>vastus lateralis muscle</td><td>jm_ctrl_6</td><td>jm</td><td>ctrl</td><td>6</td></tr>\n",
       "</tbody>\n",
       "</table>\n"
      ],
      "text/latex": [
       "A grouped\\_df: 6 × 12\n",
       "\\begin{tabular}{llllllllllll}\n",
       " sample\\_id & sex & age\\_yr & low\\_muscle\\_mass & low\\_strength\\_performance & population & sarcopenia\\_status & tissue & sample\\_id\\_new & country & condition & sample\\_no\\\\\n",
       " <chr> & <chr> & <dbl> & <chr> & <chr> & <chr> & <chr> & <chr> & <chr> & <fct> & <fct> & <int>\\\\\n",
       "\\hline\n",
       "\t jm\\_sample\\_1 & male & 86 & no  & no & Afro-Caribbean descent & no & vastus lateralis muscle & jm\\_ctrl\\_1 & jm & ctrl & 1\\\\\n",
       "\t jm\\_sample\\_2 & male & 80 & no  & no & Afro-Caribbean descent & no & vastus lateralis muscle & jm\\_ctrl\\_2 & jm & ctrl & 2\\\\\n",
       "\t jm\\_sample\\_3 & male & 65 & no  & no & Afro-Caribbean descent & no & vastus lateralis muscle & jm\\_ctrl\\_3 & jm & ctrl & 3\\\\\n",
       "\t jm\\_sample\\_4 & male & 64 & no  & no & Afro-Caribbean descent & no & vastus lateralis muscle & jm\\_ctrl\\_4 & jm & ctrl & 4\\\\\n",
       "\t jm\\_sample\\_5 & male & 74 & yes & no & Afro-Caribbean descent & no & vastus lateralis muscle & jm\\_ctrl\\_5 & jm & ctrl & 5\\\\\n",
       "\t jm\\_sample\\_6 & male & 89 & no  & no & Afro-Caribbean descent & no & vastus lateralis muscle & jm\\_ctrl\\_6 & jm & ctrl & 6\\\\\n",
       "\\end{tabular}\n"
      ],
      "text/markdown": [
       "\n",
       "A grouped_df: 6 × 12\n",
       "\n",
       "| sample_id &lt;chr&gt; | sex &lt;chr&gt; | age_yr &lt;dbl&gt; | low_muscle_mass &lt;chr&gt; | low_strength_performance &lt;chr&gt; | population &lt;chr&gt; | sarcopenia_status &lt;chr&gt; | tissue &lt;chr&gt; | sample_id_new &lt;chr&gt; | country &lt;fct&gt; | condition &lt;fct&gt; | sample_no &lt;int&gt; |\n",
       "|---|---|---|---|---|---|---|---|---|---|---|---|\n",
       "| jm_sample_1 | male | 86 | no  | no | Afro-Caribbean descent | no | vastus lateralis muscle | jm_ctrl_1 | jm | ctrl | 1 |\n",
       "| jm_sample_2 | male | 80 | no  | no | Afro-Caribbean descent | no | vastus lateralis muscle | jm_ctrl_2 | jm | ctrl | 2 |\n",
       "| jm_sample_3 | male | 65 | no  | no | Afro-Caribbean descent | no | vastus lateralis muscle | jm_ctrl_3 | jm | ctrl | 3 |\n",
       "| jm_sample_4 | male | 64 | no  | no | Afro-Caribbean descent | no | vastus lateralis muscle | jm_ctrl_4 | jm | ctrl | 4 |\n",
       "| jm_sample_5 | male | 74 | yes | no | Afro-Caribbean descent | no | vastus lateralis muscle | jm_ctrl_5 | jm | ctrl | 5 |\n",
       "| jm_sample_6 | male | 89 | no  | no | Afro-Caribbean descent | no | vastus lateralis muscle | jm_ctrl_6 | jm | ctrl | 6 |\n",
       "\n"
      ],
      "text/plain": [
       "  sample_id   sex  age_yr low_muscle_mass low_strength_performance\n",
       "1 jm_sample_1 male 86     no              no                      \n",
       "2 jm_sample_2 male 80     no              no                      \n",
       "3 jm_sample_3 male 65     no              no                      \n",
       "4 jm_sample_4 male 64     no              no                      \n",
       "5 jm_sample_5 male 74     yes             no                      \n",
       "6 jm_sample_6 male 89     no              no                      \n",
       "  population             sarcopenia_status tissue                 \n",
       "1 Afro-Caribbean descent no                vastus lateralis muscle\n",
       "2 Afro-Caribbean descent no                vastus lateralis muscle\n",
       "3 Afro-Caribbean descent no                vastus lateralis muscle\n",
       "4 Afro-Caribbean descent no                vastus lateralis muscle\n",
       "5 Afro-Caribbean descent no                vastus lateralis muscle\n",
       "6 Afro-Caribbean descent no                vastus lateralis muscle\n",
       "  sample_id_new country condition sample_no\n",
       "1 jm_ctrl_1     jm      ctrl      1        \n",
       "2 jm_ctrl_2     jm      ctrl      2        \n",
       "3 jm_ctrl_3     jm      ctrl      3        \n",
       "4 jm_ctrl_4     jm      ctrl      4        \n",
       "5 jm_ctrl_5     jm      ctrl      5        \n",
       "6 jm_ctrl_6     jm      ctrl      6        "
      ]
     },
     "metadata": {},
     "output_type": "display_data"
    }
   ],
   "source": [
    "### --- Clean and combine metadata --- ### \n",
    "\n",
    "# Subset columns of interest\n",
    "jm_md <- jm_geo_md %>% \n",
    "    dplyr::select(title, sex_ch1, age_yr_ch1, low_muscle_mass_ch1, \n",
    "                  low_muscle_strength_and_or_low_physical_performance_ch1, \n",
    "                  population_ch1, sarcopenia_status_ch1, tissue_ch1) %>% \n",
    "    # rename stuff \n",
    "    rename(sample_id = title,\n",
    "          low_strength_performance = low_muscle_strength_and_or_low_physical_performance_ch1)\n",
    "colnames(jm_md) <- gsub(\"_ch1\", \"\", colnames(jm_md))\n",
    "\n",
    "# Change Sample 1 [sss] to sample_1j\n",
    "jm_md$sample_id <- gsub(\" \\\\[jss]\", \"\", jm_md$sample_id)\n",
    "jm_md$sample_id <- gsub(\" \", \"_\", jm_md$sample_id)\n",
    "jm_md$sample_id <- gsub(\"Sample\", \"jm_sample\", jm_md$sample_id)\n",
    "jm_md$country <- \"jm\"\n",
    "\n",
    "# Combine the jamaica and jm metadata\n",
    "metadata <- jm_md\n",
    "# get sarco and control\n",
    "metadata$condition = ifelse(metadata$sarcopenia_status == \"yes\", \"sarco\", \"ctrl\")\n",
    "# Change jm_sample_1 to jm_sarco_1, number it according to group\n",
    "metadata <- metadata %>% \n",
    "    group_by(sarcopenia_status, country) %>% \n",
    "    mutate(sample_no = 1:n()) %>% \n",
    "    arrange(condition) %>% \n",
    "    unite(\"sample_id_new\", country:sample_no, sep = \"_\", remove = FALSE)\n",
    "\n",
    "metadata$country <- as.factor(metadata$country)\n",
    "metadata$condition <- factor(metadata$condition, levels = c(\"ctrl\", \"sarco\"))\n",
    "\n",
    "dim(metadata)\n",
    "head(metadata)"
   ]
  },
  {
   "cell_type": "code",
   "execution_count": 7,
   "id": "c996c3f1",
   "metadata": {
    "ExecuteTime": {
     "end_time": "2023-01-13T05:12:52.769239Z",
     "start_time": "2023-01-13T05:12:43.345Z"
    }
   },
   "outputs": [
    {
     "data": {
      "text/plain": [
       "     \n",
       "      no yes\n",
       "  no  25   5\n",
       "  yes  0   9"
      ]
     },
     "metadata": {},
     "output_type": "display_data"
    }
   ],
   "source": [
    "table(metadata$sarcopenia_status, metadata$low_muscle_mass)"
   ]
  },
  {
   "cell_type": "code",
   "execution_count": null,
   "id": "e96104c1",
   "metadata": {
    "ExecuteTime": {
     "end_time": "2023-01-13T05:12:57.624258Z",
     "start_time": "2023-01-13T05:12:43.346Z"
    }
   },
   "outputs": [],
   "source": [
    "### --- Create data matrix --- ###\n",
    "\n",
    "jm <- read.csv(\n",
    "    file = \"../../data/data_raw/GSE111010_allSamplesCounts_htseqcov1_jss_forGEO.csv\") %>% \n",
    "    janitor::clean_names()\n",
    "# Add gene names to rownames\n",
    "rownames(jm) <- jm$x\n",
    "# Remove the x column (ensembl gene id)\n",
    "jm <- jm[ ,!colnames(jm) == \"x\"]\n",
    "# Add prefix, rename colnames\n",
    "colnames(jm) <- paste0(\"jm_\", colnames(jm))\n",
    "colnames(jm) <- metadata$sample_id_new[match(colnames(jm), metadata$sample_id)]\n",
    "jm$ensembl_gene_id = rownames(jm)\n",
    "\n",
    "# Join the counts matrix, remove ensembl_gene_id column\n",
    "counts <- jm  %>% \n",
    "            dplyr::select(\"ensembl_gene_id\", metadata$sample_id_new)\n",
    "counts[is.na(counts)] <- 0\n",
    "remove = \"ensembl_gene_id\"\n",
    "data_mat = as.matrix(counts[, !colnames(counts) %in% remove])\n",
    "rownames(data_mat) = counts$ensembl_gene_id\n",
    "\n",
    "# Keep only rows that start with ENSG (remove the __nofeature rows)\n",
    "#data_mat <- data_mat[rownames(data_mat)[grep(\"^ENSG\", rownames(data_mat))], ]\n",
    "data_mat = apply(round(data_mat), c(1,2), as.integer) # Round to integer\n",
    "data_mat_nonzero = data_mat[rowSums(data_mat) > 0, ] # Rm non-zero rows\n",
    "\n",
    "\n",
    "sum(duplicated(rownames(data_mat_nonzero)))# Check that we have no duplicates"
   ]
  },
  {
   "cell_type": "code",
   "execution_count": null,
   "id": "8a4b4e90",
   "metadata": {
    "ExecuteTime": {
     "end_time": "2023-01-13T05:12:57.655951Z",
     "start_time": "2023-01-13T05:12:43.347Z"
    }
   },
   "outputs": [],
   "source": [
    "# Check that all rows start with ENSG; that is, no rows do not start with ENSG:\n",
    "data_mat[rownames(data_mat)[grep(\"^ENSG\", rownames(data_mat), invert = TRUE)], ]"
   ]
  },
  {
   "cell_type": "code",
   "execution_count": null,
   "id": "8628be49",
   "metadata": {
    "ExecuteTime": {
     "end_time": "2023-01-13T05:13:00.700516Z",
     "start_time": "2023-01-13T05:12:43.348Z"
    }
   },
   "outputs": [],
   "source": [
    "# Keep only rows that start with ENSG (remove the __nofeature rows)\n",
    "data_mat <- data_mat[rownames(data_mat)[grep(\"^ENSG\", rownames(data_mat))], ]\n",
    "data_mat = apply(round(data_mat), c(1,2), as.integer) # Round to integer\n",
    "data_mat_nonzero = data_mat[rowSums(data_mat) > 0, ] # Rm non-zero rows"
   ]
  },
  {
   "cell_type": "code",
   "execution_count": null,
   "id": "b93e8dff",
   "metadata": {
    "ExecuteTime": {
     "end_time": "2023-01-13T05:13:00.710545Z",
     "start_time": "2023-01-13T05:12:43.348Z"
    }
   },
   "outputs": [],
   "source": [
    "nrow(data_mat)"
   ]
  },
  {
   "cell_type": "code",
   "execution_count": null,
   "id": "d0229401",
   "metadata": {
    "ExecuteTime": {
     "end_time": "2023-01-13T05:13:00.720325Z",
     "start_time": "2023-01-13T05:12:43.349Z"
    }
   },
   "outputs": [],
   "source": [
    "nrow(data_mat_nonzero)"
   ]
  },
  {
   "cell_type": "code",
   "execution_count": null,
   "id": "796693da",
   "metadata": {
    "ExecuteTime": {
     "end_time": "2023-01-13T05:13:00.730696Z",
     "start_time": "2023-01-13T05:12:43.350Z"
    }
   },
   "outputs": [],
   "source": [
    "nrow(data_mat_nonzero)/nrow(data_mat) * 100"
   ]
  },
  {
   "cell_type": "code",
   "execution_count": null,
   "id": "cb555593",
   "metadata": {
    "ExecuteTime": {
     "end_time": "2023-01-13T05:13:23.860816Z",
     "start_time": "2023-01-13T05:12:43.350Z"
    }
   },
   "outputs": [],
   "source": [
    "#Creates the DESeq2 object\n",
    "# Run it first without controlling for age\n",
    "dds = DESeqDataSetFromMatrix(data_mat_nonzero, metadata, \n",
    "                             ~ condition)\n",
    "colnames(dds) = colnames(data_mat)\n",
    "\n",
    "#Estimates the size factors using the \"median ratio method\" described by Equation 5 in Anders and Huber (2010)\n",
    "dds <- estimateSizeFactors(dds) \n",
    "\n",
    "#This function obtains dispersion estimates for a count data set\n",
    "dds <- estimateDispersions(dds)\n",
    "\n",
    "#This function transforms the count data to the log2 scale in a way which minimizes differences between samples for rows with small counts\n",
    "rld <- vst(dds)"
   ]
  },
  {
   "cell_type": "markdown",
   "id": "af169a71",
   "metadata": {},
   "source": [
    "## Global theme options"
   ]
  },
  {
   "cell_type": "code",
   "execution_count": null,
   "id": "3c19e4ff",
   "metadata": {
    "ExecuteTime": {
     "end_time": "2023-01-13T05:13:23.869275Z",
     "start_time": "2023-01-13T05:12:43.351Z"
    }
   },
   "outputs": [],
   "source": [
    "# Generic theme\n",
    "th <- theme(axis.text.x = element_text(size = 15),\n",
    "          axis.text.y = element_text(size = 15),\n",
    "         plot.title = element_text(size = 20),\n",
    "         plot.subtitle = element_text(size = 15),\n",
    "         axis.title.x = element_blank(),\n",
    "         axis.title.y = element_blank())"
   ]
  },
  {
   "cell_type": "code",
   "execution_count": null,
   "id": "e94f1a39",
   "metadata": {
    "ExecuteTime": {
     "end_time": "2023-01-13T05:13:23.877737Z",
     "start_time": "2023-01-13T05:12:43.352Z"
    }
   },
   "outputs": [],
   "source": [
    "# pca theme\n",
    "pca_th <- theme(plot.title = element_text(size = 20),\n",
    "         axis.title.x = element_text(size = 15), \n",
    "         axis.title.y = element_text(size = 15),\n",
    "         axis.text.x = element_text(size = 15),\n",
    "         axis.text.y = element_text(size = 15))"
   ]
  },
  {
   "cell_type": "markdown",
   "id": "5bd672c3",
   "metadata": {},
   "source": [
    "## Analysis"
   ]
  },
  {
   "cell_type": "markdown",
   "id": "16b90e50",
   "metadata": {
    "lines_to_next_cell": 0
   },
   "source": [
    "### Sample clustering"
   ]
  },
  {
   "cell_type": "code",
   "execution_count": null,
   "id": "37ffc9b4",
   "metadata": {
    "ExecuteTime": {
     "end_time": "2023-01-13T05:13:24.656920Z",
     "start_time": "2023-01-13T05:12:43.353Z"
    },
    "name": "hclust"
   },
   "outputs": [],
   "source": [
    "options(repr.plot.height = 8, repr.plot.width = 18)\n",
    "\n",
    "sampleDists <- dist(t(assay(rld)))\n",
    "plot(hclust(sampleDists), main = \"Cluster Dendrogram, before rRNA removal\")"
   ]
  },
  {
   "cell_type": "markdown",
   "id": "112e64e1",
   "metadata": {
    "lines_to_next_cell": 0
   },
   "source": [
    "### PCA"
   ]
  },
  {
   "cell_type": "code",
   "execution_count": null,
   "id": "4b4d9309",
   "metadata": {
    "ExecuteTime": {
     "end_time": "2023-01-13T05:13:25.458798Z",
     "start_time": "2023-01-13T05:12:43.354Z"
    },
    "lines_to_next_cell": 2,
    "name": "pca_samples"
   },
   "outputs": [],
   "source": [
    "ntop = 500\n",
    "rv <- rowVars(assay(rld))\n",
    "select <- order(rv, decreasing = TRUE)[seq_len(min(ntop, length(rv)))]\n",
    "pca = prcomp(t(assay(rld)[select,]))\n",
    "percentVar <- pca$sdev^2/sum(pca$sdev^2)\n",
    "\n",
    "set.seed(1)\n",
    "pca_data <- plotPCA(rld, \n",
    "                    intgroup = c(\"condition\", \"low_muscle_mass\", \n",
    "                                 \"low_strength_performance\", \"age_yr\"), \n",
    "                    returnData=TRUE)\n",
    "percentVar <- round(100 * attr(pca_data, \"percentVar\"), digits=2)"
   ]
  },
  {
   "cell_type": "code",
   "execution_count": null,
   "id": "5bce9873",
   "metadata": {
    "ExecuteTime": {
     "end_time": "2023-01-13T05:13:25.778913Z",
     "start_time": "2023-01-13T05:12:43.354Z"
    }
   },
   "outputs": [],
   "source": [
    "options(repr.plot.height = 8, repr.plot.width = 12)\n",
    "\n",
    "ggplot(pca_data, aes(PC1, PC2, color=condition, shape = low_muscle_mass)) + geom_point(size=5) +\n",
    "  scale_x_continuous(paste0(\"PC1: \",percentVar[1],\"% variance\"),\n",
    "                    limits = c(-40, 40)) +\n",
    "  scale_y_continuous(paste0(\"PC2: \",percentVar[2],\"% variance\"),\n",
    "                    limits = c(-25, 25)) + \n",
    "  coord_fixed() + \n",
    "  theme_classic() + \n",
    "    scale_color_brewer(palette = \"Set1\") +\n",
    "  #geom_text_repel(data = pca_data, aes(PC1,PC2, label = name), \n",
    "  #                hjust = 1.2, box.padding = 0.5, size = 5.5) +\n",
    "  expand_limits(x = c(-50, 50), y = c(-30, 30)) +\n",
    "  labs(title = \"PCA, before rRNA removal\") +\n",
    "  pca_th"
   ]
  },
  {
   "cell_type": "code",
   "execution_count": null,
   "id": "14f576a2",
   "metadata": {
    "ExecuteTime": {
     "end_time": "2023-01-13T05:13:26.052675Z",
     "start_time": "2023-01-13T05:12:43.355Z"
    }
   },
   "outputs": [],
   "source": [
    "options(repr.plot.height = 8, repr.plot.width = 12)\n",
    "\n",
    "ggplot(pca_data, aes(PC1, PC2, color=condition, shape = low_strength_performance)) + \n",
    "  geom_point(size=5) +\n",
    "  scale_color_brewer(palette = \"Set1\") +\n",
    "  scale_x_continuous(paste0(\"PC1: \",percentVar[1],\"% variance\"),\n",
    "                    limits = c(-40, 40)) +\n",
    "  scale_y_continuous(paste0(\"PC2: \",percentVar[2],\"% variance\"),\n",
    "                    limits = c(-25, 25)) + \n",
    "  coord_fixed() + \n",
    "  theme_classic() + \n",
    "  #geom_text_repel(data = pca_data, aes(PC1,PC2, label = name), \n",
    "  #                hjust = 1.2, box.padding = 0.5, size = 5.5) +\n",
    "  expand_limits(x = c(-50, 50), y = c(-30, 30)) +\n",
    "  labs(title = \"PCA, before rRNA removal\") +\n",
    "  pca_th"
   ]
  },
  {
   "cell_type": "code",
   "execution_count": null,
   "id": "07f84d94",
   "metadata": {
    "ExecuteTime": {
     "end_time": "2023-01-13T05:13:26.291318Z",
     "start_time": "2023-01-13T05:12:43.355Z"
    }
   },
   "outputs": [],
   "source": [
    "options(repr.plot.height = 8, repr.plot.width = 12)\n",
    "\n",
    "ggplot(pca_data, aes(PC1, PC2, color=age_yr)) + \n",
    "  geom_point(size=5) +\n",
    "  scale_x_continuous(paste0(\"PC1: \",percentVar[1],\"% variance\"),\n",
    "                    limits = c(-40, 40)) +\n",
    "  scale_y_continuous(paste0(\"PC2: \",percentVar[2],\"% variance\"),\n",
    "                    limits = c(-25, 25)) + \n",
    "  coord_fixed() + \n",
    "  theme_classic() + \n",
    "  #geom_text_repel(data = pca_data, aes(PC1,PC2, label = name), \n",
    "  #                hjust = 1.2, box.padding = 0.5, size = 5.5) +\n",
    "  expand_limits(x = c(-50, 50), y = c(-30, 30)) +\n",
    "  labs(title = \"PCA, before rRNA removal\") +\n",
    "  pca_th"
   ]
  },
  {
   "cell_type": "markdown",
   "id": "82744fdb",
   "metadata": {},
   "source": [
    "PC1 does not separate by condition, low_muscle_mass, low_strength_performance or age_year. "
   ]
  },
  {
   "cell_type": "markdown",
   "id": "d07b93c8",
   "metadata": {
    "lines_to_next_cell": 0
   },
   "source": [
    "### Number of genes detected"
   ]
  },
  {
   "cell_type": "code",
   "execution_count": null,
   "id": "31ff52da",
   "metadata": {
    "ExecuteTime": {
     "end_time": "2023-01-13T05:13:26.690140Z",
     "start_time": "2023-01-13T05:12:43.356Z"
    },
    "name": "number_of_genes"
   },
   "outputs": [],
   "source": [
    "options(repr.plot.height = 18, repr.plot.width = 10)\n",
    "\n",
    "detected = apply(counts(dds), 2, function(col) sum(col > 0 ))\n",
    "detected = as.data.frame(detected)\n",
    "detected$name = row.names(detected)\n",
    "detected$name = factor(detected$name, rev(metadata$sample_id_new))\n",
    "                 \n",
    "ggplot(detected, aes(x=name, y=detected)) + \n",
    "                 geom_bar(stat=\"identity\") + \n",
    "                 theme_classic() + \n",
    "                 coord_flip() + \n",
    "                 scale_y_continuous(\"Number of Genes detected\", expand=c(0,0)) + \n",
    "                 scale_x_discrete(\"Sample\") +\n",
    "                 labs(title = \"# of genes detected\", \n",
    "                     subtitle = \"Before rRNA removal\") +\n",
    "                 th"
   ]
  },
  {
   "cell_type": "markdown",
   "id": "1e80b2f9",
   "metadata": {
    "lines_to_next_cell": 0
   },
   "source": [
    "### Normalised counts (boxplot)"
   ]
  },
  {
   "cell_type": "code",
   "execution_count": null,
   "id": "331d81a8",
   "metadata": {
    "ExecuteTime": {
     "end_time": "2023-01-13T05:13:36.876312Z",
     "start_time": "2023-01-13T05:12:43.357Z"
    }
   },
   "outputs": [],
   "source": [
    "options(repr.plot.height = 8, repr.plot.width = 10)\n",
    "\n",
    "nc = counts(dds, normalized=TRUE)\n",
    "nc.melt = melt(nc)\n",
    "\n",
    "ggplot(nc.melt, aes(x=Var2, y=value)) + \n",
    "    geom_boxplot() + \n",
    "    theme_classic() + \n",
    "    theme(axis.text.x = element_text(angle = 90, colour=\"black\", hjust = 1)) + \n",
    "    scale_x_discrete(\"Sample\") + \n",
    "    scale_y_continuous(\"Normalised counts\") +\n",
    "    labs(title = \"Normalized counts\",\n",
    "        subtitle = \"Before rRNA removal\") +\n",
    "    th"
   ]
  },
  {
   "cell_type": "code",
   "execution_count": null,
   "id": "071fb502",
   "metadata": {
    "ExecuteTime": {
     "end_time": "2023-01-13T05:13:37.074562Z",
     "start_time": "2023-01-13T05:12:43.358Z"
    }
   },
   "outputs": [],
   "source": [
    "nc.threshold = 1e6\n",
    "test = apply(nc, 1, function(x){ any(x > nc.threshold) })\n",
    "\n",
    "as.data.frame(ensembl.genes[names(test[test])])\n",
    " \n",
    "#as.data.frame(ensembl.genes[names(test[test])]) %>%\n",
    "#  kable %>% kable_styling(\"striped\", full_width = F) %>% scroll_box(width = \"800px\", height = \"500px\")"
   ]
  },
  {
   "cell_type": "markdown",
   "id": "ba64c208",
   "metadata": {
    "lines_to_next_cell": 0
   },
   "source": [
    "These are all protein-coding genes involved in muscle. \n",
    "\n",
    "### Normalised counts (Transcripts per million (TPM))"
   ]
  },
  {
   "cell_type": "code",
   "execution_count": null,
   "id": "c3ffd226",
   "metadata": {
    "ExecuteTime": {
     "end_time": "2023-01-13T05:13:37.082930Z",
     "start_time": "2023-01-13T05:12:43.358Z"
    }
   },
   "outputs": [],
   "source": [
    "#options(repr.plot.height = 8, repr.plot.width = 10)\n",
    "\n",
    "#effective_lengths = matrix(0, ncol=length(experimental_metadata$sample_id), nrow=17714)\n",
    "#colnames(effective_lengths)= experimental_metadata$sample_id\n",
    "#for( i in experimental_metadata$sample_id){\n",
    "#  effective_lengths[,i] = read.table(paste(\"../data/aligned_data/\", i, \".genes.results\",sep=\"\"), sep=\"\\t\", header=TRUE)$effective_length\n",
    "#}\n",
    "#row.names(effective_lengths) = read.table(paste(\"../data/aligned_data/\", i, \".genes.results\",sep=\"\"), sep=\"\\t\", header=TRUE)$gene_id\n",
    "\n",
    "#effective_lengths = rowMeans(effective_lengths[row.names(counts(dds)),])\n",
    "#ncrpk = counts(dds) / (effective_lengths / 1000)\n",
    "#ncrpk = apply(ncrpk, c(1,2), function(x){if(is.nan(x)){0}else{x}})\n",
    "#ncrpk = apply(ncrpk, c(1,2), function(x){if(is.infinite(x)){0}else{x}})\n",
    "#ncscalingfactor = colSums(ncrpk) / 1e6\n",
    "#nctpm = sweep(ncrpk, 2, ncscalingfactor, \"/\")\n",
    "\n",
    "#nctpm.melt = melt(nctpm)\n",
    "#ggplot(nctpm.melt, aes(x=Var2, y=value)) + \n",
    "#    geom_boxplot() + \n",
    "#    theme_classic() + \n",
    "#    theme(axis.text.x = element_text(angle = 90, colour=\"black\", hjust = 1)) + \n",
    "#    labs(title = \"Normalized counts (TPM)\", \n",
    "#        subtitle = \"Before rRNA removal\") +\n",
    "#    th"
   ]
  },
  {
   "cell_type": "code",
   "execution_count": null,
   "id": "64467f4a",
   "metadata": {
    "ExecuteTime": {
     "end_time": "2023-01-13T05:13:37.091084Z",
     "start_time": "2023-01-13T05:12:43.359Z"
    }
   },
   "outputs": [],
   "source": [
    "#tpm.threshold = 20000\n",
    "#test.tpm = apply(nctpm, 1, function(x){ any(x> tpm.threshold) })\n",
    "\n",
    "#as.data.frame(ensembl.genes[names(test.tpm[test.tpm])]) #%>%\n",
    "  #kable %>% kable_styling(\"striped\", full_width = F) %>% scroll_box(width = \"800px\", height = \"500px\")"
   ]
  },
  {
   "cell_type": "markdown",
   "id": "aa66a93a",
   "metadata": {
    "lines_to_next_cell": 0
   },
   "source": [
    "### rRNA percentage"
   ]
  },
  {
   "cell_type": "code",
   "execution_count": null,
   "id": "1f3c1746",
   "metadata": {
    "ExecuteTime": {
     "end_time": "2023-01-13T05:13:37.537272Z",
     "start_time": "2023-01-13T05:12:43.360Z"
    },
    "name": "percentage-rRNA"
   },
   "outputs": [],
   "source": [
    "options(repr.plot.height = 18, repr.plot.width = 8)\n",
    "\n",
    "rrna.genes = names(ensembl.genes[ensembl.genes$gene_biotype %in% c(\"Mt_rRNA\", \"rRNA\")])\n",
    "percentage.of.rrna = (colSums(counts(dds[ rownames(counts(dds)) %in% rrna.genes])) / colSums(counts(dds))) * 100\n",
    "\n",
    "percentage.of.rrna = as.data.frame(percentage.of.rrna)\n",
    "percentage.of.rrna$name = row.names(percentage.of.rrna)\n",
    "percentage.of.rrna$name = factor(percentage.of.rrna$name,rev(metadata$sample_id_new))\n",
    "ggplot(percentage.of.rrna, \n",
    "       aes(x=name, y=percentage.of.rrna)) + \n",
    "        geom_bar(stat=\"identity\") + \n",
    "        theme_classic() + \n",
    "        coord_flip() + \n",
    "        th +\n",
    "        scale_y_continuous(\"% rRNA\", expand=c(0,0), limits = c(0, 10)) +\n",
    "        labs(title = \"% rRNA\")\n"
   ]
  },
  {
   "cell_type": "code",
   "execution_count": null,
   "id": "6540e775",
   "metadata": {
    "ExecuteTime": {
     "end_time": "2023-01-13T05:13:37.547981Z",
     "start_time": "2023-01-13T05:12:43.360Z"
    }
   },
   "outputs": [],
   "source": [
    "summary(percentage.of.rrna$percentage.of.rrna)"
   ]
  },
  {
   "cell_type": "markdown",
   "id": "af6a5041",
   "metadata": {},
   "source": [
    "Our samples have relatively low rRNA % - all of them are below 2%, which is reassuring. Still, these should be removed. "
   ]
  },
  {
   "cell_type": "markdown",
   "id": "21ec9ffe",
   "metadata": {
    "lines_to_next_cell": 0
   },
   "source": [
    "### Proportions of gene biotypes"
   ]
  },
  {
   "cell_type": "code",
   "execution_count": null,
   "id": "14f85e42",
   "metadata": {
    "ExecuteTime": {
     "end_time": "2023-01-13T05:13:38.118504Z",
     "start_time": "2023-01-13T05:12:43.361Z"
    },
    "name": "reads_genebiotype"
   },
   "outputs": [],
   "source": [
    "options(repr.plot.height = 6, repr.plot.width = 20)\n",
    "\n",
    "pc = ensembl.genes$gene_id[ensembl.genes$gene_biotype == \"protein_coding\"]\n",
    "pg = ensembl.genes$gene_id[ensembl.genes$gene_biotype %in% unique(ensembl.genes$gene_biotype)[grep(\"pseudogene\", unique(ensembl.genes$gene_biotype))]]\n",
    "lc = ensembl.genes$gene_id[ensembl.genes$gene_biotype == \"lincRNA\"]\n",
    "\n",
    "totalcounts.pc = colSums(counts(dds)[rownames(counts(dds)) %in% pc,])\n",
    "totalcounts.pg = colSums(counts(dds)[rownames(counts(dds)) %in% pg,])\n",
    "totalcounts.lc = colSums(counts(dds)[rownames(counts(dds)) %in% lc,])\n",
    "\n",
    "totalcounts.other = colSums(counts(dds)[!(rownames(counts(dds)) %in% c(lc,pc,pg)),])\n",
    "\n",
    "counts.by.biotype = data.frame(name = names(totalcounts.pc),\n",
    "                         protein_coding = totalcounts.pc,\n",
    "                         pseudogene = totalcounts.pg,\n",
    "                         lincRNA = totalcounts.lc,\n",
    "                         other = totalcounts.other\n",
    "                         \n",
    "                         )\n",
    "\n",
    "counts.by.biotype$name = factor(counts.by.biotype$name, metadata$sample_id_new)\n",
    "\n",
    "counts.by.biotype = as.data.frame(t(apply(counts.by.biotype[,2:5], 1, function(x){ 100 * (x / sum(x)) }) ))\n",
    "counts.by.biotype$name = names(totalcounts.pc)\n",
    "counts.by.biotype$name = factor(counts.by.biotype$name, metadata$sample_id_new)\n",
    "\n",
    "counts.by.biotype.melt = melt(counts.by.biotype)\n",
    "\n",
    "options(repr.plot.height = 8, repr.plot.width = 10)\n",
    "\n",
    "ggplot(counts.by.biotype.melt, aes(x=name, y=value, fill=variable)) +  \n",
    "    geom_bar(stat=\"identity\") + \n",
    "    theme_classic() + \n",
    "    scale_y_continuous(\"% reads\", labels = dollar_format(suffix = \"%\", prefix = \"\"),  \n",
    "                       expand=c(0,0)) + scale_x_discrete(\"Sample\") + \n",
    "    theme(axis.text.x = element_text(angle = 45, colour=\"black\", #family=\"Arial\", \n",
    "                                     hjust = 1, size=8)) +\n",
    "    labs(title = \"Proportions of gene biotypes\", \n",
    "        subtitle = \"Before rRNA removal\") +\n",
    "    th"
   ]
  },
  {
   "cell_type": "markdown",
   "id": "1fe0c842",
   "metadata": {
    "lines_to_next_cell": 0
   },
   "source": [
    "### Remove rRNA from the analysis"
   ]
  },
  {
   "cell_type": "code",
   "execution_count": null,
   "id": "8939ad13",
   "metadata": {
    "ExecuteTime": {
     "end_time": "2023-01-13T05:13:38.326744Z",
     "start_time": "2023-01-13T05:12:43.362Z"
    },
    "echo": true
   },
   "outputs": [],
   "source": [
    "dds_filt = dds[!(row.names(counts(dds)) %in% \n",
    "            ensembl.genes$gene_id[ensembl.genes$gene_biotype \n",
    "                                  %in% c(\"rRNA\", \"snoRNA\", \"snRNA\", \"Mt_rRNA\")]),]\n",
    "dds_filt = dds_filt[rowSums(counts(dds_filt)) > 0,]"
   ]
  },
  {
   "cell_type": "code",
   "execution_count": null,
   "id": "d772e99a",
   "metadata": {
    "ExecuteTime": {
     "end_time": "2023-01-13T05:13:38.337450Z",
     "start_time": "2023-01-13T05:12:43.362Z"
    }
   },
   "outputs": [],
   "source": [
    "dim(dds)"
   ]
  },
  {
   "cell_type": "code",
   "execution_count": null,
   "id": "cc5af55f",
   "metadata": {
    "ExecuteTime": {
     "end_time": "2023-01-13T05:13:38.348222Z",
     "start_time": "2023-01-13T05:12:43.363Z"
    }
   },
   "outputs": [],
   "source": [
    "dim(dds_filt)"
   ]
  },
  {
   "cell_type": "markdown",
   "id": "650e94f1",
   "metadata": {
    "lines_to_next_cell": 0
   },
   "source": [
    "### Check rRNA removed"
   ]
  },
  {
   "cell_type": "code",
   "execution_count": null,
   "id": "227becbe",
   "metadata": {
    "ExecuteTime": {
     "end_time": "2023-01-13T05:13:38.742396Z",
     "start_time": "2023-01-13T05:12:43.364Z"
    }
   },
   "outputs": [],
   "source": [
    "rrna.genes = names(ensembl.genes[ensembl.genes$gene_biotype %in% c(\"rRNA\", \"snoRNA\", \"snRNA\", \"Mt_rRNA\")])\n",
    "percentage.of.rrna = (colSums(counts(dds_filt[ rownames(counts(dds_filt)) %in% rrna.genes])) / \n",
    "                      colSums(counts(dds_filt))) * 100\n",
    "\n",
    "percentage.of.rrna = as.data.frame(percentage.of.rrna)\n",
    "percentage.of.rrna$name = row.names(percentage.of.rrna)\n",
    "percentage.of.rrna$name = factor(percentage.of.rrna$name, rev(metadata$sample_id_new))\n",
    "ggplot(percentage.of.rrna, aes(x=name, y=percentage.of.rrna)) + \n",
    "    geom_bar(stat=\"identity\") + \n",
    "    theme_classic() + \n",
    "    coord_flip() + scale_y_continuous(\"% rRNA\", expand=c(0,0)) + \n",
    "    scale_x_discrete(\"Sample\") +\n",
    "    th"
   ]
  },
  {
   "cell_type": "markdown",
   "id": "0e6392ec",
   "metadata": {
    "lines_to_next_cell": 0
   },
   "source": [
    "### Check chrM intact"
   ]
  },
  {
   "cell_type": "code",
   "execution_count": null,
   "id": "46e9e87b",
   "metadata": {
    "ExecuteTime": {
     "end_time": "2023-01-13T05:13:38.773559Z",
     "start_time": "2023-01-13T05:12:43.364Z"
    }
   },
   "outputs": [],
   "source": [
    "in_dds = ensembl.genes[which(rownames(dds_filt) %in% ensembl.genes$gene_id)]\n",
    "table(seqnames(in_dds))"
   ]
  },
  {
   "cell_type": "markdown",
   "id": "b2184805",
   "metadata": {
    "lines_to_next_cell": 0
   },
   "source": [
    "### Clustering after rRNA removal"
   ]
  },
  {
   "cell_type": "code",
   "execution_count": null,
   "id": "607d7094",
   "metadata": {
    "ExecuteTime": {
     "end_time": "2023-01-13T05:14:00.082742Z",
     "start_time": "2023-01-13T05:12:43.365Z"
    },
    "name": "clustering_filt"
   },
   "outputs": [],
   "source": [
    "dds_filt <- estimateSizeFactors(dds_filt) \n",
    "dds_filt <- estimateDispersions(dds_filt)\n",
    "rld_filt <- vst(dds_filt)\n",
    "\n",
    "sampleDists <- dist(t(assay(rld_filt)))\n",
    "plot(hclust(sampleDists), main = \"Cluster Dendrogram, after rRNA removal\")"
   ]
  },
  {
   "cell_type": "markdown",
   "id": "a3820f2b",
   "metadata": {
    "lines_to_next_cell": 0
   },
   "source": [
    "### PCA after rRNA removal"
   ]
  },
  {
   "cell_type": "code",
   "execution_count": null,
   "id": "cf621ad5",
   "metadata": {
    "ExecuteTime": {
     "end_time": "2023-01-13T05:14:00.866183Z",
     "start_time": "2023-01-13T05:12:43.366Z"
    },
    "name": "pca_samples_filt"
   },
   "outputs": [],
   "source": [
    "ntop = 500\n",
    "rv <- rowVars(assay(rld_filt))\n",
    "select <- order(rv, decreasing = TRUE)[seq_len(min(ntop, length(rv)))]\n",
    "pca = prcomp(t(assay(rld_filt)[select,]))\n",
    "percentVar <- pca$sdev^2/sum(pca$sdev^2)\n",
    "\n",
    "pca_data <- plotPCA(rld_filt, intgroup = c(\"condition\", \"low_muscle_mass\",\n",
    "                                          \"low_strength_performance\", \"age_yr\"), \n",
    "                    returnData=TRUE)\n",
    "percentVar <- round(100 * attr(pca_data, \"percentVar\"), digits=2)"
   ]
  },
  {
   "cell_type": "code",
   "execution_count": null,
   "id": "45cac7c8",
   "metadata": {
    "ExecuteTime": {
     "end_time": "2023-01-13T05:14:01.133903Z",
     "start_time": "2023-01-13T05:12:43.366Z"
    }
   },
   "outputs": [],
   "source": [
    "options(repr.plot.height = 8, repr.plot.width = 10)\n",
    "\n",
    "ggplot(pca_data, aes(PC1, PC2, color=condition, shape = low_muscle_mass)) + \n",
    " geom_point(size=3) +\n",
    "  scale_x_continuous(paste0(\"PC1: \",percentVar[1],\"% variance\"),\n",
    "                    limits = c(-40, 40)) +\n",
    "  scale_y_continuous(paste0(\"PC2: \",percentVar[2],\"% variance\"),\n",
    "                    limits = c(-25, 25)) + \n",
    "  coord_fixed() + theme_classic() + \n",
    "  scale_color_brewer(palette = \"Set1\") +\n",
    "  #geom_text_repel(data = pca_data, aes(PC1,PC2, label = name), \n",
    "  #                hjust = 1.2, size = 5) +\n",
    "    labs(title = \"PCA, after rRNA removal\") +\n",
    "    pca_th"
   ]
  },
  {
   "cell_type": "code",
   "execution_count": null,
   "id": "3499d4a6",
   "metadata": {
    "ExecuteTime": {
     "end_time": "2023-01-13T05:14:01.385288Z",
     "start_time": "2023-01-13T05:12:43.367Z"
    }
   },
   "outputs": [],
   "source": [
    "options(repr.plot.height = 8, repr.plot.width = 10)\n",
    "\n",
    "ggplot(pca_data, aes(PC1, PC2, color = condition, shape = low_strength_performance)) + \n",
    " geom_point(size=3) +\n",
    "  scale_x_continuous(paste0(\"PC1: \",percentVar[1],\"% variance\"),\n",
    "                    limits = c(-40, 40)) +\n",
    "  scale_y_continuous(paste0(\"PC2: \",percentVar[2],\"% variance\"),\n",
    "                    limits = c(-25, 25)) + \n",
    "  coord_fixed() + theme_classic() + \n",
    "  scale_color_brewer(palette = \"Set1\") +\n",
    "  #geom_text_repel(data = pca_data, aes(PC1,PC2, label = name), \n",
    "  #                hjust = 1.2, size = 5) +\n",
    "    labs(title = \"PCA, after rRNA removal\") +\n",
    "    pca_th"
   ]
  },
  {
   "cell_type": "code",
   "execution_count": null,
   "id": "9534968e",
   "metadata": {
    "ExecuteTime": {
     "end_time": "2023-01-13T05:14:01.588910Z",
     "start_time": "2023-01-13T05:12:43.368Z"
    }
   },
   "outputs": [],
   "source": [
    "options(repr.plot.height = 8, repr.plot.width = 10)\n",
    "\n",
    "ggplot(pca_data, aes(PC1, PC2, color=age_yr)) + \n",
    " geom_point(size=3) +\n",
    "  scale_x_continuous(paste0(\"PC1: \",percentVar[1],\"% variance\"),\n",
    "                    limits = c(-40, 40)) +\n",
    "  scale_y_continuous(paste0(\"PC2: \",percentVar[2],\"% variance\"),\n",
    "                    limits = c(-25, 25)) + \n",
    "  coord_fixed() + theme_classic() + \n",
    "  #geom_text_repel(data = pca_data, aes(PC1,PC2, label = name), \n",
    "  #                hjust = 1.2, size = 5) +\n",
    "    labs(title = \"PCA, after rRNA removal\") +\n",
    "    pca_th"
   ]
  },
  {
   "cell_type": "markdown",
   "id": "2a50a040",
   "metadata": {
    "lines_to_next_cell": 0
   },
   "source": [
    "### Size Factors"
   ]
  },
  {
   "cell_type": "code",
   "execution_count": null,
   "id": "59b8e6e0",
   "metadata": {
    "ExecuteTime": {
     "end_time": "2023-01-13T05:14:01.952970Z",
     "start_time": "2023-01-13T05:12:43.368Z"
    },
    "name": "size factors"
   },
   "outputs": [],
   "source": [
    "summary(sizeFactors(dds_filt))\n",
    "df = data.frame(sample_id = names(sizeFactors(dds_filt)), \n",
    "                sizeFactors = sizeFactors(dds_filt))\n",
    "\n",
    "ggplot(df, aes(x = sample_id, y=sizeFactors)) + \n",
    "    geom_bar(stat=\"identity\") + \n",
    "    scale_y_continuous(limits=c(0,2), expand=c(0,0)) + \n",
    "    theme_classic() + \n",
    "    theme(axis.text.x = element_text(angle = 45, hjust=1, colour=\"black\", \n",
    "                                     #family=\"Arial\",\n",
    "                                     size=12)) +\n",
    "    th +\n",
    "    labs(title = \"Size Factors, after rRNA removal\")"
   ]
  },
  {
   "cell_type": "markdown",
   "id": "2205c3e1",
   "metadata": {
    "lines_to_next_cell": 0
   },
   "source": [
    "### MA Plots"
   ]
  },
  {
   "cell_type": "code",
   "execution_count": null,
   "id": "1d14af89",
   "metadata": {
    "ExecuteTime": {
     "end_time": "2023-01-13T05:14:01.963314Z",
     "start_time": "2023-01-13T05:12:43.369Z"
    },
    "name": "ma-plots",
    "results": false
   },
   "outputs": [],
   "source": [
    "#for(cd in unique(experimental_metadata$condition)){\n",
    "#  samples = experimental_metadata$sample_id[experimental_metadata$condition == cd]\n",
    "#  for(i in 1:(length(samples)-1)){\n",
    "#      print(i)\n",
    "#      for(j in (i+1):(length(samples))){\n",
    "#        print(j)\n",
    "        \n",
    "#        x = counts(dds, normalized=TRUE)[, samples[i]]\n",
    "#        y = counts(dds, normalized=TRUE)[, samples[j]]\n",
    "      \n",
    "#        M = log2(x) - log2(y)\n",
    "#        A = (log2(x) + log2(y)) / 2\n",
    "#        df = data.frame(gene_id = names(x), M=M, A=A)\n",
    "      \n",
    "#        print(ggplot(df, aes(x=A, y=M)) + geom_point(size = 1.5, alpha = 1/5) + theme_classic() + geom_hline(yintercept=0, colour=\"blue3\", linetype=\"dashed\") + ggtitle(paste(samples[i], \"vs\", samples[j],  median(abs(x-y)), sep= \" \")) + stat_smooth(se = FALSE, method = \"loess\", color = \"red3\") + theme_classic())\n",
    "#    }\n",
    "#  }\n",
    "#}"
   ]
  },
  {
   "cell_type": "markdown",
   "id": "d671bd6a",
   "metadata": {
    "lines_to_next_cell": 0
   },
   "source": [
    "### Normalised counts after removal of rRNA (boxplot)"
   ]
  },
  {
   "cell_type": "code",
   "execution_count": null,
   "id": "150bfa26",
   "metadata": {
    "ExecuteTime": {
     "end_time": "2023-01-13T05:14:11.455347Z",
     "start_time": "2023-01-13T05:12:43.370Z"
    },
    "name": "nc_boxplot"
   },
   "outputs": [],
   "source": [
    "nc = counts(dds_filt, normalized=TRUE)\n",
    "nc.melt = melt(nc)\n",
    "\n",
    "ggplot(nc.melt, aes(x=Var2, y=value)) + \n",
    "    geom_boxplot() + theme_classic() + \n",
    "    theme(axis.text.x = element_text(angle = 90, colour=\"black\", hjust = 1)) + \n",
    "    scale_x_discrete(\"Sample\") + scale_y_continuous(\"Normalised counts\")"
   ]
  },
  {
   "cell_type": "code",
   "execution_count": null,
   "id": "0150727a",
   "metadata": {
    "ExecuteTime": {
     "end_time": "2023-01-13T05:14:11.600927Z",
     "start_time": "2023-01-13T05:12:43.370Z"
    }
   },
   "outputs": [],
   "source": [
    "nc.threshold = 500000\n",
    "test = apply(nc, 1, function(x){ any(x > nc.threshold) })\n",
    " \n",
    "as.data.frame(ensembl.genes[names(test[test])]) #%>%\n",
    "  #kable %>% kable_styling(\"striped\", full_width = F) %>% scroll_box(width = \"800px\", height = \"500px\")"
   ]
  },
  {
   "cell_type": "markdown",
   "id": "e8f9b59c",
   "metadata": {
    "lines_to_next_cell": 0
   },
   "source": [
    "All of these are protein_coding genes; we can keep them. \n",
    "\n",
    "### Normalised counts after removal of rRNA (Transcripts per million (TPM)) "
   ]
  },
  {
   "cell_type": "code",
   "execution_count": null,
   "id": "418da482",
   "metadata": {
    "ExecuteTime": {
     "end_time": "2023-01-13T05:14:11.609249Z",
     "start_time": "2023-01-13T05:12:43.371Z"
    },
    "name": "tpm"
   },
   "outputs": [],
   "source": [
    "#effective_lengths = matrix(0, ncol=length(experimental_metadata$sample_id), nrow=17714)\n",
    "#colnames(effective_lengths)= experimental_metadata$sample_id\n",
    "#for( i in experimental_metadata$sample_id){\n",
    "#  effective_lengths[,i] = read.table(paste(\"../data/aligned_data/\", i, \".genes.results\",sep=\"\"), sep=\"\\t\", header=TRUE)$effective_length\n",
    "#}\n",
    "#row.names(effective_lengths) = read.table(paste(\"../data/aligned_data/\", i, \".genes.results\",sep=\"\"), sep=\"\\t\", header=TRUE)$gene_id\n",
    "\n",
    "#effective_lengths = rowMeans(effective_lengths[row.names(counts(dds)),])\n",
    "#ncrpk = counts(dds) / (effective_lengths / 1000)\n",
    "#ncrpk = apply(ncrpk, c(1,2), function(x){if(is.nan(x)){0}else{x}})\n",
    "#ncrpk = apply(ncrpk, c(1,2), function(x){if(is.infinite(x)){0}else{x}})\n",
    "#ncscalingfactor = colSums(ncrpk) / 1e6\n",
    "#nctpm = sweep(ncrpk, 2, ncscalingfactor, \"/\")\n",
    "\n",
    "#nctpm.melt = melt(nctpm)\n",
    "#ggplot(nctpm.melt, aes(x=Var2, y=value)) + geom_boxplot() + theme_classic() + theme(axis.text.x = element_text(angle = 90, colour=\"black\", hjust = 1)) + scale_x_discrete(\"Sample\") + scale_y_continuous(\"TPM\")"
   ]
  },
  {
   "cell_type": "code",
   "execution_count": null,
   "id": "cc482141",
   "metadata": {
    "ExecuteTime": {
     "end_time": "2023-01-13T05:14:11.617331Z",
     "start_time": "2023-01-13T05:12:43.372Z"
    }
   },
   "outputs": [],
   "source": [
    "#tpm.threshold = 10000\n",
    "#test.tpm = apply(nctpm, 1, function(x){ any(x> tpm.threshold) })\n",
    "\n",
    "#as.data.frame(ensembl.genes[names(test.tpm[test.tpm])]) #%>%\n",
    " # kable %>% kable_styling(\"striped\", full_width = F) %>% scroll_box(width = \"800px\", height = \"500px\")\n",
    "    "
   ]
  },
  {
   "cell_type": "markdown",
   "id": "6a30f2b9",
   "metadata": {},
   "source": [
    "These all seem to be protein-coding genes, so we will not remove them."
   ]
  },
  {
   "cell_type": "markdown",
   "id": "6a580224",
   "metadata": {},
   "source": [
    "# Batch correction\n",
    "\n",
    "Next, we perform batch correction to remove the effects of age. "
   ]
  },
  {
   "cell_type": "markdown",
   "id": "0ffa68db",
   "metadata": {},
   "source": [
    "# DESeq"
   ]
  },
  {
   "cell_type": "code",
   "execution_count": null,
   "id": "46173314",
   "metadata": {
    "ExecuteTime": {
     "end_time": "2023-01-13T05:14:45.763503Z",
     "start_time": "2023-01-13T05:12:43.373Z"
    }
   },
   "outputs": [],
   "source": [
    "dds_corrected <- dds_filt \n",
    "design(dds_corrected) <- formula(~ age_yr + condition)\n",
    "\n",
    "dds_corrected <- DESeq(dds_corrected)"
   ]
  },
  {
   "cell_type": "code",
   "execution_count": null,
   "id": "2d870a92",
   "metadata": {
    "ExecuteTime": {
     "end_time": "2023-01-13T05:14:47.048253Z",
     "start_time": "2023-01-13T05:12:43.373Z"
    }
   },
   "outputs": [],
   "source": [
    "rld_corrected <- vst(dds_corrected)\n",
    "\n",
    "# Remove batch effect from country and year\n",
    "assay(rld_corrected) <- limma::removeBatchEffect(assay(rld_corrected), \n",
    "                                                batch = metadata$age_yr)"
   ]
  },
  {
   "cell_type": "markdown",
   "id": "9866a2d4",
   "metadata": {},
   "source": [
    "## PCA"
   ]
  },
  {
   "cell_type": "code",
   "execution_count": null,
   "id": "a13e9a22",
   "metadata": {
    "ExecuteTime": {
     "end_time": "2023-01-13T05:14:47.815053Z",
     "start_time": "2023-01-13T05:12:43.374Z"
    }
   },
   "outputs": [],
   "source": [
    "ntop = 500\n",
    "rv <- rowVars(assay(rld_corrected))\n",
    "select <- order(rv, decreasing = TRUE)[seq_len(min(ntop, length(rv)))]\n",
    "pca = prcomp(t(assay(rld_corrected)[select,]))\n",
    "percentVar <- pca$sdev^2/sum(pca$sdev^2)\n",
    "\n",
    "pca_data <- plotPCA(rld_corrected, intgroup = c(\"age_yr\", \"condition\",\n",
    "                                               \"low_muscle_mass\", \"low_strength_performance\"), returnData=TRUE)\n",
    "percentVar <- round(100 * attr(pca_data, \"percentVar\"), digits=2)"
   ]
  },
  {
   "cell_type": "code",
   "execution_count": null,
   "id": "330ae2e4",
   "metadata": {
    "ExecuteTime": {
     "end_time": "2023-01-13T05:14:48.095115Z",
     "start_time": "2023-01-13T05:12:43.375Z"
    }
   },
   "outputs": [],
   "source": [
    "options(repr.plot.height = 8, repr.plot.width = 10)\n",
    "\n",
    "pca_corrected <- ggplot(pca_data, aes(PC1, PC2, color = condition, shape=low_muscle_mass)) + \n",
    " geom_point(size=3) +\n",
    "  scale_x_continuous(paste0(\"PC1: \",percentVar[1],\"% variance\"),\n",
    "                    limits = c(-40, 40)) +\n",
    "  scale_y_continuous(paste0(\"PC2: \",percentVar[2],\"% variance\"),\n",
    "                    limits = c(-25, 25)) + \n",
    "  coord_fixed() + theme_classic() + \n",
    "  scale_color_brewer(palette = \"Set1\") +\n",
    "  #geom_text_repel(data = pca_data, aes(PC1,PC2, label = name), \n",
    "  #                hjust = 1.2, size = 5) +\n",
    "    labs(title = \"PCA, after batch correction\",\n",
    "        subtitle = \"Corrected for age and country\") +\n",
    "    pca_th\n",
    "\n",
    "pca_corrected"
   ]
  },
  {
   "cell_type": "code",
   "execution_count": null,
   "id": "025b6f7d",
   "metadata": {
    "ExecuteTime": {
     "end_time": "2023-01-13T05:14:48.370845Z",
     "start_time": "2023-01-13T05:12:43.375Z"
    }
   },
   "outputs": [],
   "source": [
    "options(repr.plot.height = 8, repr.plot.width = 10)\n",
    "\n",
    "pca_corrected <- ggplot(pca_data, aes(PC1, PC2, \n",
    "                                      color = condition, shape=low_strength_performance)) + \n",
    " geom_point(size=3) +\n",
    "  scale_x_continuous(paste0(\"PC1: \",percentVar[1],\"% variance\"),\n",
    "                    limits = c(-40, 40)) +\n",
    "  scale_y_continuous(paste0(\"PC2: \",percentVar[2],\"% variance\"),\n",
    "                    limits = c(-25, 25)) + \n",
    "  coord_fixed() + theme_classic() + \n",
    "  scale_color_brewer(palette = \"Set1\") +\n",
    "  #geom_text_repel(data = pca_data, aes(PC1,PC2, label = name), \n",
    "  #                hjust = 1.2, size = 5) +\n",
    "    labs(title = \"PCA, after batch correction\",\n",
    "        subtitle = \"Corrected for age and country\") +\n",
    "    pca_th\n",
    "\n",
    "pca_corrected"
   ]
  },
  {
   "cell_type": "markdown",
   "id": "db5c0a4e",
   "metadata": {},
   "source": [
    "Well, they've all (unsurprisingly) clustered closer together - however, there is still no clear separatio between controls and sarcopenia. "
   ]
  },
  {
   "cell_type": "markdown",
   "id": "18bd479a",
   "metadata": {},
   "source": [
    "## Hierarchical clustering"
   ]
  },
  {
   "cell_type": "code",
   "execution_count": null,
   "id": "6858a818",
   "metadata": {
    "ExecuteTime": {
     "end_time": "2023-01-13T05:14:48.686372Z",
     "start_time": "2023-01-13T05:12:43.376Z"
    }
   },
   "outputs": [],
   "source": [
    "options(repr.plot.height = 10, repr.plot.width = 20)\n",
    "\n",
    "sampleDists <- dist(t(assay(rld_corrected)))\n",
    "plot(hclust(sampleDists), main = \"Cluster Dendrogram, after batch correction\")"
   ]
  },
  {
   "cell_type": "markdown",
   "id": "435240cd",
   "metadata": {},
   "source": [
    "This makes absolutely no sense whatsoever. "
   ]
  },
  {
   "cell_type": "code",
   "execution_count": null,
   "id": "369c5d5c",
   "metadata": {
    "ExecuteTime": {
     "end_time": "2023-01-13T05:14:53.403985Z",
     "start_time": "2023-01-13T05:12:43.377Z"
    }
   },
   "outputs": [],
   "source": [
    "## If the directory doesn't exist, create it\n",
    "if(!dir.exists(\"../output/\")){\n",
    "  dir.create(\"../output/\")\n",
    "}\n",
    "\n",
    "if(!dir.exists(\"../output/02a_QC_jm/\")){\n",
    "  dir.create(\"../output/02a_QC_jm/\")\n",
    "}\n",
    "\n",
    "saveRDS(dds_filt, \"../output/02a_QC_jm/dds_quality_control.RDS\")\n",
    "saveRDS(dds_corrected, \"../output/02a_QC_jm/dds_corrected.RDS\")\n",
    "#saveRDS(nctpm, \"../analysis/output/QC/tpm.RDS\")\n",
    "#saveRDS(ensembl.genes, \"../../output/QC/ensembl_genes.RDS\")\n",
    "#saveRDS(hs.gtf.db, \"../../output/QC/hs_gtf_db.RDS\")\n",
    "saveRDS(metadata, \"../output/02a_QC_jm/metadata.RDS\")"
   ]
  },
  {
   "cell_type": "markdown",
   "id": "2a0d726e",
   "metadata": {
    "lines_to_next_cell": 0
   },
   "source": [
    "### Session Info"
   ]
  },
  {
   "cell_type": "code",
   "execution_count": null,
   "id": "dff9a87d",
   "metadata": {
    "ExecuteTime": {
     "end_time": "2023-01-13T05:14:53.528352Z",
     "start_time": "2023-01-13T05:12:43.377Z"
    }
   },
   "outputs": [],
   "source": [
    "sessionInfo()"
   ]
  },
  {
   "cell_type": "code",
   "execution_count": null,
   "id": "41e26d86",
   "metadata": {},
   "outputs": [],
   "source": []
  }
 ],
 "metadata": {
  "jupytext": {
   "cell_metadata_filter": "name,results,echo,cache,tags,-all",
   "formats": "Rmd,ipynb",
   "notebook_metadata_filter": "-all"
  },
  "kernelspec": {
   "display_name": "R",
   "language": "R",
   "name": "ir"
  },
  "language_info": {
   "codemirror_mode": "r",
   "file_extension": ".r",
   "mimetype": "text/x-r-source",
   "name": "R",
   "pygments_lexer": "r",
   "version": "4.2.2"
  },
  "toc": {
   "base_numbering": 1,
   "nav_menu": {},
   "number_sections": true,
   "sideBar": true,
   "skip_h1_title": false,
   "title_cell": "Table of Contents",
   "title_sidebar": "Contents",
   "toc_cell": false,
   "toc_position": {},
   "toc_section_display": true,
   "toc_window_display": true
  }
 },
 "nbformat": 4,
 "nbformat_minor": 5
}
